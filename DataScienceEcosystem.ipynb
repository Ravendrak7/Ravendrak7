{
 "cells": [
  {
   "cell_type": "markdown",
   "id": "884a2e94",
   "metadata": {},
   "source": [
    " # Data Science Tools and Ecosystem"
   ]
  },
  {
   "cell_type": "markdown",
   "id": "2def521c",
   "metadata": {},
   "source": [
    "## In this notebook, Data Science Tools and Ecosystem are summarized"
   ]
  },
  {
   "cell_type": "markdown",
   "id": "c88886a1",
   "metadata": {},
   "source": [
    "### Objectives"
   ]
  },
  {
   "cell_type": "markdown",
   "id": "3102bc89",
   "metadata": {},
   "source": [
    "1. Some of the popular languages that Data Scientists use are.\n",
    "2. Some of the commonly used libraries used by Data Scientists include.\n",
    "3. Create a Single column table.\n",
    "4. Write a Mathematical expression "
   ]
  },
  {
   "cell_type": "markdown",
   "id": "c8ae4e32",
   "metadata": {},
   "source": [
    "### Some of the popular languages that Data Scientists use are:\n"
   ]
  },
  {
   "cell_type": "markdown",
   "id": "c1e14c61",
   "metadata": {},
   "source": [
    "1. Python\n",
    "2. SQL (Structured Query Language)\n",
    "3. R\n",
    "4. Julia"
   ]
  },
  {
   "cell_type": "markdown",
   "id": "f64286ec",
   "metadata": {},
   "source": [
    "### Some of the commonly used libraries used by Data Scientists include:"
   ]
  },
  {
   "cell_type": "markdown",
   "id": "c502690b",
   "metadata": {},
   "source": [
    "1. Pandas\n",
    "2. Numpy\n",
    "3. Matplotlib\n",
    "4. Sklearn"
   ]
  },
  {
   "cell_type": "markdown",
   "id": "9a8db8e0",
   "metadata": {},
   "source": [
    "| Data SCience Tools |\n",
    "| ------------------ |\n",
    "| Jupyter Note Book |\n",
    "| Tebleau | \n",
    "| MatLab |"
   ]
  },
  {
   "cell_type": "markdown",
   "id": "31f45a7c",
   "metadata": {},
   "source": [
    "### Below are a few examples of evaluating arithmetic expressions in Python"
   ]
  },
  {
   "cell_type": "markdown",
   "id": "2953d7cb",
   "metadata": {},
   "source": [
    "$X^2 + Y^2 = Z^2$"
   ]
  },
  {
   "cell_type": "markdown",
   "id": "9c5c4ccc",
   "metadata": {},
   "source": [
    "### This a simple arithmetic expression to mutiply then add integer's"
   ]
  },
  {
   "cell_type": "code",
   "execution_count": 1,
   "id": "1b427dcf",
   "metadata": {},
   "outputs": [
    {
     "data": {
      "text/plain": [
       "17"
      ]
     },
     "execution_count": 1,
     "metadata": {},
     "output_type": "execute_result"
    }
   ],
   "source": [
    "(3*4)+5"
   ]
  },
  {
   "cell_type": "markdown",
   "id": "a8960bd9",
   "metadata": {},
   "source": [
    "### This will convert 200 minutes to hours by diving by 60"
   ]
  },
  {
   "cell_type": "code",
   "execution_count": 2,
   "id": "1b6701ac",
   "metadata": {},
   "outputs": [
    {
     "data": {
      "text/plain": [
       "3.3333333333333335"
      ]
     },
     "execution_count": 2,
     "metadata": {},
     "output_type": "execute_result"
    }
   ],
   "source": [
    "Min=200\n",
    "MTH=Min/60\n",
    "MTH"
   ]
  },
  {
   "cell_type": "markdown",
   "id": "c3209508",
   "metadata": {},
   "source": [
    "## Author\n",
    "\n",
    "Ravendra singh"
   ]
  },
  {
   "cell_type": "code",
   "execution_count": null,
   "id": "30a64dac",
   "metadata": {},
   "outputs": [],
   "source": []
  }
 ],
 "metadata": {
  "kernelspec": {
   "display_name": "Python 3 (ipykernel)",
   "language": "python",
   "name": "python3"
  },
  "language_info": {
   "codemirror_mode": {
    "name": "ipython",
    "version": 3
   },
   "file_extension": ".py",
   "mimetype": "text/x-python",
   "name": "python",
   "nbconvert_exporter": "python",
   "pygments_lexer": "ipython3",
   "version": "3.9.13"
  }
 },
 "nbformat": 4,
 "nbformat_minor": 5
}
